{
 "cells": [
  {
   "cell_type": "code",
   "execution_count": 32,
   "metadata": {},
   "outputs": [],
   "source": [
    "import pandas as pd\n",
    "import numpy as np\n",
    "import matplotlib.pylab as plt\n",
    "import seaborn as sns\n",
    "from random import randint\n",
    "plt.style.use('ggplot')\n",
    "\n",
    "# pandas option set for more columns\n",
    "# pd.set_option('max_columns', 200)"
   ]
  },
  {
   "cell_type": "code",
   "execution_count": 33,
   "metadata": {},
   "outputs": [],
   "source": [
    "# Loading in the data \n",
    "X_train = np.load(r'data_folder/X_train.npy')\n",
    "Y_train = np.load(r'data_folder/Y_train.npy')"
   ]
  },
  {
   "cell_type": "code",
   "execution_count": 34,
   "metadata": {},
   "outputs": [
    {
     "name": "stdout",
     "output_type": "stream",
     "text": [
      "(151166, 28, 28)\n",
      "(151166, 26)\n"
     ]
    }
   ],
   "source": [
    "# Lets define what the shape of both of the data frames looks like\n",
    "print(X_train.shape)\n",
    "print(Y_train.shape)"
   ]
  },
  {
   "cell_type": "code",
   "execution_count": 35,
   "metadata": {},
   "outputs": [],
   "source": [
    "# We now know, that we have more than 151k records of (28 , 28) images ( EMNIST dataset)\n",
    "# whats more, we now that for every record X we have a record Y, which is a\n",
    "# a one-hot encoded value, which index ( from 0 to 25 ) is the equivalence of letters from A to Z\n",
    "\n",
    "# lets see how one record looks like, just because we can\n",
    "a_random_value = randint(10, 900)\n",
    "x = X_train[a_random_value]"
   ]
  },
  {
   "cell_type": "code",
   "execution_count": 36,
   "metadata": {},
   "outputs": [
    {
     "data": {
      "image/png": "[encoded data removed]",
      "text/plain": [
       "<Figure size 640x480 with 1 Axes>"
      ]
     },
     "metadata": {},
     "output_type": "display_data"
    }
   ],
   "source": [
    "# and maybe visualize this one, would be quite handy, wouldnt it?\n",
    "plt.imshow(x, cmap='gray')\n",
    "plt.show()"
   ]
  },
  {
   "cell_type": "code",
   "execution_count": 37,
   "metadata": {},
   "outputs": [
    {
     "data": {
      "text/plain": [
       "'V'"
      ]
     },
     "execution_count": 37,
     "metadata": {},
     "output_type": "execute_result"
    }
   ],
   "source": [
    "# here is an example to access one of the one-hot encoded values\n",
    "chr(np.argmax(Y_train[a_random_value]) + 65)"
   ]
  },
  {
   "cell_type": "code",
   "execution_count": 40,
   "metadata": {},
   "outputs": [
    {
     "name": "stdout",
     "output_type": "stream",
     "text": [
      "The dtype of the Images: uint8\n",
      "The dtype of the Answers: uint8\n"
     ]
    }
   ],
   "source": [
    "# Also, lets see the dtypes of both X_train and Y_train\n",
    "print(f\"The dtype of the Images: {X_train.dtype}\")\n",
    "print(f\"The dtype of the Answers: {Y_train.dtype}\")"
   ]
  },
  {
   "cell_type": "code",
   "execution_count": null,
   "metadata": {},
   "outputs": [],
   "source": []
  }
 ],
 "metadata": {
  "interpreter": {
   "hash": "0f5106b9aa60478ddd0a7f9dd8cb958910a32bd63de4bcc45a9d3597f84437ee"
  },
  "kernelspec": {
   "display_name": "Python 3.11.5 ('base')",
   "language": "python",
   "name": "python3"
  },
  "language_info": {
   "codemirror_mode": {
    "name": "ipython",
    "version": 3
   },
   "file_extension": ".py",
   "mimetype": "text/x-python",
   "name": "python",
   "nbconvert_exporter": "python",
   "pygments_lexer": "ipython3",
   "version": "3.11.8"
  },
  "orig_nbformat": 4
 },
 "nbformat": 4,
 "nbformat_minor": 2
}
